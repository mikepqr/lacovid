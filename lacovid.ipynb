{
 "cells": [
  {
   "cell_type": "code",
   "execution_count": null,
   "id": "0af85768",
   "metadata": {
    "execution": {
     "iopub.execute_input": "2023-05-23T21:11:19.488921Z",
     "iopub.status.busy": "2023-05-23T21:11:19.488695Z",
     "iopub.status.idle": "2023-05-23T21:11:20.374177Z",
     "shell.execute_reply": "2023-05-23T21:11:20.373462Z"
    }
   },
   "outputs": [],
   "source": [
    "import pandas as pd\n",
    "import matplotlib.pyplot as plt\n",
    "from datetime import datetime, timezone, timedelta\n",
    "plt.rcParams['figure.dpi'] = 144"
   ]
  },
  {
   "cell_type": "code",
   "execution_count": null,
   "id": "7df4b3a8",
   "metadata": {
    "execution": {
     "iopub.execute_input": "2023-05-23T21:11:20.378053Z",
     "iopub.status.busy": "2023-05-23T21:11:20.377592Z",
     "iopub.status.idle": "2023-05-23T21:11:20.588199Z",
     "shell.execute_reply": "2023-05-23T21:11:20.587561Z"
    }
   },
   "outputs": [],
   "source": [
    "df = pd.read_csv(\n",
    "    \"https://raw.githubusercontent.com/datadesk/california-coronavirus-data/master/cdph-county-cases-deaths.csv\",\n",
    "    index_col=0,\n",
    "    parse_dates=[0]\n",
    ").sort_index()\n",
    "df = df[df[\"county\"] == \"Los Angeles\"]\n",
    "df.index = df.index.tz_localize(tz='US/Pacific')\n",
    "df['new_cases'] = df.confirmed_cases.diff()\n",
    "df['new_deaths'] = df.confirmed_deaths.diff()"
   ]
  },
  {
   "cell_type": "code",
   "execution_count": null,
   "id": "af966d4f",
   "metadata": {
    "execution": {
     "iopub.execute_input": "2023-05-23T21:11:20.591484Z",
     "iopub.status.busy": "2023-05-23T21:11:20.591045Z",
     "iopub.status.idle": "2023-05-23T21:11:20.594151Z",
     "shell.execute_reply": "2023-05-23T21:11:20.593528Z"
    }
   },
   "outputs": [],
   "source": [
    "## State positivity stopped being reported in 2023-01-09\n",
    "\n",
    "# positivity = pd.read_csv(\n",
    "#     \"https://raw.githubusercontent.com/datadesk/california-coronavirus-data/master/cdph-positive-test-rate.csv\",\n",
    "#     index_col=0,\n",
    "#     parse_dates=[0]\n",
    "# ).sort_index()\n",
    "# positivity.index = positivity.index.tz_localize(tz='US/Pacific')\n",
    "# positivity = positivity.new_positive_tests / positivity.new_tests\n",
    "# positivity.name = \"positivity\"\n",
    "# df = df.join(positivity)"
   ]
  },
  {
   "cell_type": "code",
   "execution_count": null,
   "id": "693e52f8",
   "metadata": {},
   "outputs": [],
   "source": [
    "fig, axs = plt.subplots(2, 1, sharex=True, figsize=(6, 5))\n",
    "\n",
    "df.new_cases.rolling(window=7).mean().plot(ax=axs[0])\n",
    "df.new_cases.plot(alpha=0.3, ax=axs[0], color='gray')\n",
    "\n",
    "df.new_deaths.rolling(window=7).mean().plot(ax=axs[1])\n",
    "df.new_deaths.plot(alpha=0.3, ax=axs[1], color='gray')\n",
    "\n",
    "# df.positivity.rolling(window=7).mean().plot(ax=axs[2])\n",
    "# df.positivity.plot(alpha=0.3, ax=axs[2], color='gray')\n",
    "\n",
    "start = datetime.now(tz=timezone.utc) - timedelta(days=90)\n",
    "\n",
    "# axs[0].set_yticks([i*100 for i in range(100)])\n",
    "# axs[1].set_yticks([i*10 for i in range(100)])\n",
    "# axs[2].set_yticks([i/50 for i in range(100)])\n",
    "# axs[2].set_yticklabels([f\"{i*100}%\" for i in axs[2].get_yticks()])\n",
    "\n",
    "axs[0].set_ylim(0, df[start:].new_cases.max())\n",
    "axs[0].set_xlim(datetime.now(tz=timezone.utc) - timedelta(days=90), None)\n",
    "axs[1].set_ylim(0, df[start:].new_deaths.max())\n",
    "# axs[2].set_ylim(0, df[start:].positivity.max())\n",
    "\n",
    "axs[0].set_ylabel(\"Cases\")\n",
    "axs[1].set_ylabel(\"Deaths\")\n",
    "# axs[2].set_ylabel(\"Test positivity\\n(entire state)\")\n",
    "\n",
    "# ax_ = axs[0].twinx()\n",
    "# ax_.set_yticks(axs[0].get_yticks())\n",
    "# ax_.set_yticklabels([i*1000/100 for i in range(100)])\n",
    "# ax_.set_ylim(axs[0].get_ylim())\n",
    "# ax_.set_ylabel(\"per 100,000\")\n",
    "\n",
    "for a in axs:\n",
    "    a.grid(alpha=0.2)\n",
    "\n",
    "title = (\n",
    "    \"LA County to \" + df.index[-1].strftime(\"%Y-%m-%d\") \n",
    "    + \"\\nseven day avg cases per 100,000: \"\n",
    "    + str(df.new_cases.rolling(window=7).mean()[-1]/100.)\n",
    ")\n",
    "    \n",
    "axs[0].set_title(title)\n",
    "fig.tight_layout()\n",
    "fig.set_facecolor(\"white\")\n",
    "fig.savefig(\"lacounty.png\", bbox_inches=\"tight\")"
   ]
  }
 ],
 "metadata": {
  "kernelspec": {
   "display_name": "Python 3",
   "language": "python",
   "name": "python3"
  },
  "language_info": {
   "codemirror_mode": {
    "name": "ipython",
    "version": 3
   },
   "file_extension": ".py",
   "mimetype": "text/x-python",
   "name": "python",
   "nbconvert_exporter": "python",
   "pygments_lexer": "ipython3",
   "version": "3.9.4"
  }
 },
 "nbformat": 4,
 "nbformat_minor": 5
}
